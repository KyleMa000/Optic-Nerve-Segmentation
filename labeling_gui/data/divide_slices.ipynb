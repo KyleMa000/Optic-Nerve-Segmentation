{
 "cells": [
  {
   "cell_type": "code",
   "execution_count": 5,
   "metadata": {},
   "outputs": [],
   "source": [
    "import ast\n",
    "import pandas as pd"
   ]
  },
  {
   "cell_type": "code",
   "execution_count": 2,
   "metadata": {},
   "outputs": [],
   "source": [
    "df = pd.read_csv(r\"RSNA_data.csv\")\n",
    "df[\"position\"] = df[\"Image Position (Patient)\"].apply(lambda x : str(ast.literal_eval(x)[:2]))"
   ]
  },
  {
   "cell_type": "code",
   "execution_count": 7,
   "metadata": {},
   "outputs": [],
   "source": [
    "data = df.groupby([\"Patient ID\", \"position\"]).count()[\"SOP Instance UID\"]"
   ]
  },
  {
   "cell_type": "code",
   "execution_count": 24,
   "metadata": {},
   "outputs": [],
   "source": [
    "indexes = list(data.index)"
   ]
  },
  {
   "cell_type": "code",
   "execution_count": 34,
   "metadata": {},
   "outputs": [],
   "source": [
    "i = 0\n",
    "\n",
    "for j in range(30):\n",
    "\n",
    "    df_list = []\n",
    "\n",
    "    initial_i = i\n",
    "\n",
    "    for z in range(25):\n",
    "\n",
    "        small_df = df[(df[\"Patient ID\"] == indexes[i][0]) & (df[\"position\"] == indexes[i][1])].copy()\n",
    "        small_df[\"numbers\"] = small_df[\"Image Position (Patient)\"].apply(lambda x : ast.literal_eval(x)[2])\n",
    "        small_df = small_df.sort_values(by=['position', 'numbers'], ascending=[True, True]).reset_index()\n",
    "        df_list.append(small_df)\n",
    "\n",
    "        i += 1\n",
    "\n",
    "    new_data = pd.concat(df_list, ignore_index=True)\n",
    "\n",
    "    new_data.to_csv(f\"slices/{j+1}.csv\", index=False)\n"
   ]
  }
 ],
 "metadata": {
  "kernelspec": {
   "display_name": "BCIL",
   "language": "python",
   "name": "python3"
  },
  "language_info": {
   "codemirror_mode": {
    "name": "ipython",
    "version": 3
   },
   "file_extension": ".py",
   "mimetype": "text/x-python",
   "name": "python",
   "nbconvert_exporter": "python",
   "pygments_lexer": "ipython3",
   "version": "3.11.4"
  },
  "orig_nbformat": 4
 },
 "nbformat": 4,
 "nbformat_minor": 2
}
