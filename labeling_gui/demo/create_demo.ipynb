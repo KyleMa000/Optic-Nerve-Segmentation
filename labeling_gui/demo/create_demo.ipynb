{
 "cells": [
  {
   "cell_type": "code",
   "execution_count": 1,
   "metadata": {},
   "outputs": [],
   "source": [
    "import os\n",
    "import nrrd\n",
    "import numpy as np\n",
    "from tqdm import tqdm\n",
    "import matplotlib.pyplot as plt"
   ]
  },
  {
   "cell_type": "code",
   "execution_count": 2,
   "metadata": {},
   "outputs": [
    {
     "name": "stderr",
     "output_type": "stream",
     "text": [
      " 41%|████      | 20/49 [1:09:16<1:40:27, 207.83s/it]\n"
     ]
    }
   ],
   "source": [
    "directory = \"#####/PDDCA_data/PDDCA-1.4.1\"\n",
    "\n",
    "positive = []\n",
    "negative = []\n",
    "# log where are we loading the data from\n",
    "\n",
    "count = 0\n",
    "# all the patients are facing left\n",
    "for patient_path in tqdm(os.listdir(directory)):\n",
    "    \n",
    "    if patient_path.startswith('.'):\n",
    "        continue\n",
    "\n",
    "    # get paths where things are stored\n",
    "    brain_image_path = os.path.join(directory, patient_path, 'img.nrrd')\n",
    "    optic_left_path = os.path.join(directory, patient_path, 'structures/OpticNerve_L.nrrd')\n",
    "    optic_right_path = os.path.join(directory, patient_path, 'structures/OpticNerve_R.nrrd')\n",
    "\n",
    "    # load the nrrd images\n",
    "    brain_image, _ = nrrd.read(brain_image_path)\n",
    "    optic_left, _ = nrrd.read(optic_left_path)\n",
    "    optic_right, _ = nrrd.read(optic_right_path)\n",
    "\n",
    "    # get left and right optic nerves togehter\n",
    "    optic = optic_left + optic_right\n",
    "\n",
    "    # put them in the output format\n",
    "    for i in range(brain_image.shape[-1]):\n",
    "\n",
    "        mask = optic[:,:,i]\n",
    "        data_dicom = brain_image[:,:,i]\n",
    "\n",
    "\n",
    "        # windowing brain image\n",
    "        img_min = np.amin(data_dicom)\n",
    "        img_max = np.amax(data_dicom)\n",
    "\n",
    "        window_width = 300\n",
    "        window_center = 36\n",
    "                \n",
    "        img_min = window_center - window_width//2 #minimum HU level\n",
    "        img_max = window_center + window_width//2 #maximum HU level\n",
    "        data_dicom[data_dicom<img_min] = img_min #set img_min for all HU levels less than minimum HU level\n",
    "        data_dicom[data_dicom>img_max] = img_max\n",
    "\n",
    "        data_dicom = (((data_dicom - img_min) * 255) / (img_max-img_min)) + 0\n",
    "\n",
    "        # stacked image\n",
    "        stacked_image = np.zeros((512, 512, 3), dtype=np.uint8)\n",
    "        stacked_image[:, :, 0] = data_dicom - (mask * data_dicom)  + mask * 255  # Blue channel (grayscale image1)\n",
    "        stacked_image[:, :, 1] = data_dicom - (mask * data_dicom)  # Green channel (grayscale image1)\n",
    "        stacked_image[:, :, 2] = data_dicom - (mask * data_dicom)  # Red channel (grayscale image2)\n",
    "\n",
    "        # rotate stacked image\n",
    "        stacked_image = np.rot90(stacked_image, k=-1)\n",
    "        data_dicom = np.rot90(data_dicom, k=-1)\n",
    "\n",
    "        if optic[:,:,i].any():\n",
    "            plt.imshow(data_dicom, cmap=\"bone\")\n",
    "            plt.savefig(f\"positive/patient{patient_path}_slice{i}.png\", dpi=800)\n",
    "            plt.close()\n",
    "            plt.imshow(stacked_image, cmap=\"bone\")\n",
    "            plt.savefig(f\"positive/patient{patient_path}_slice{i}_label.png\", dpi=800)\n",
    "            plt.close()\n",
    "        else:\n",
    "            plt.imshow(data_dicom, cmap=\"bone\")\n",
    "            plt.savefig(f\"negative/patient{patient_path}_slice{i}.png\", dpi=800)\n",
    "            plt.close()\n",
    "\n",
    "    count += 1\n",
    "\n",
    "    if count == 20:\n",
    "        break"
   ]
  }
 ],
 "metadata": {
  "kernelspec": {
   "display_name": "base",
   "language": "python",
   "name": "python3"
  },
  "language_info": {
   "codemirror_mode": {
    "name": "ipython",
    "version": 3
   },
   "file_extension": ".py",
   "mimetype": "text/x-python",
   "name": "python",
   "nbconvert_exporter": "python",
   "pygments_lexer": "ipython3",
   "version": "3.11.4"
  }
 },
 "nbformat": 4,
 "nbformat_minor": 2
}
